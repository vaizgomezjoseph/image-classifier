{
 "cells": [
  {
   "cell_type": "markdown",
   "id": "a69f41f9",
   "metadata": {},
   "source": [
    "# Classifying Identifiable People Using Image Classification\n",
    "Identify whether individuals in an image are \"identifiable\" or \"unidentifiable\". Images are considered \"identifiable\" if they clearly show an individual's face with no obstructions (mask, sunglasses, etc.). An applicaton of this project may be for companies that need to keep track of everyone visiting their locations.\n",
    "\n",
    "## Step 1: Import Libraries"
   ]
  },
  {
   "cell_type": "code",
   "execution_count": null,
   "id": "c3eec403",
   "metadata": {},
   "outputs": [],
   "source": [
    "import matplotlib.pyplot as plt\n",
    "import seaborn as sns\n",
    "\n",
    "import keras\n",
    "from keras.models import Sequential\n",
    "from keras.layers import Dense, Conv2D , MaxPool2D , Flatten , Dropout \n",
    "from keras.preprocessing.image import ImageDataGenerator\n",
    "from keras.optimizers import Adam\n",
    "\n",
    "from sklearn.metrics import classification_report,confusion_matrix\n",
    "\n",
    "import tensorflow as tf\n",
    "\n",
    "import cv2\n",
    "import os\n",
    "\n",
    "import numpy as np"
   ]
  },
  {
   "cell_type": "markdown",
   "id": "ac22d925",
   "metadata": {},
   "source": [
    "## Step 2: Load the Data"
   ]
  },
  {
   "cell_type": "code",
   "execution_count": null,
   "id": "5d8d5d8c",
   "metadata": {},
   "outputs": [],
   "source": [
    "labels = ['identifiable', 'unidentifiable']\n",
    "img_size = 224\n",
    "\n",
    "def get_data(data_dir):\n",
    "    \"\"\"Return a numpy array\n",
    "\n",
    "    Numpy array containing train or testing set data values. Read the images from \n",
    "    data_dir in the RGB format and resize the images to the desired width and height.\n",
    "    \"\"\"\n",
    "    data = [] \n",
    "    for label in labels: \n",
    "        path = os.path.join(data_dir, label)\n",
    "        class_num = labels.index(label) # 0: identifiable, 1: unidentifiable\n",
    "        for img in os.listdir(path):\n",
    "            try:\n",
    "                img_arr = cv2.imread(os.path.join(path, img))[...,::-1] #convert BGR to RGB format\n",
    "                resized_arr = cv2.resize(img_arr, (img_size, img_size)) # Reshaping images to preferred size\n",
    "                data.append([resized_arr, class_num])\n",
    "            except Exception as e:\n",
    "                print(e)\n",
    "    return np.array(data, dtype=object)"
   ]
  },
  {
   "cell_type": "code",
   "execution_count": null,
   "id": "5f4e8f35",
   "metadata": {},
   "outputs": [],
   "source": [
    "# Fetch the train and validation data.\n",
    "train = get_data('images dataset/Training Set')\n",
    "val = get_data('images dataset/Testing Set')"
   ]
  },
  {
   "cell_type": "markdown",
   "id": "f6ea25a3",
   "metadata": {},
   "source": [
    "## Step 3: Visualize the data"
   ]
  },
  {
   "cell_type": "code",
   "execution_count": null,
   "id": "c15b2efb",
   "metadata": {},
   "outputs": [],
   "source": [
    "l = []\n",
    "for i in train:\n",
    "    if(i[1] == 0):\n",
    "        l.append(\"identifiable\")\n",
    "    else:\n",
    "        l.append(\"unidentifiable\")\n",
    "sns.set_style('darkgrid')\n",
    "sns.countplot(x=l)"
   ]
  },
  {
   "cell_type": "code",
   "execution_count": null,
   "id": "193d07bb",
   "metadata": {},
   "outputs": [],
   "source": [
    "plt.figure(figsize = (5,5))\n",
    "plt.imshow(train[1][0])\n",
    "plt.title(labels[train[0][1]])"
   ]
  },
  {
   "cell_type": "code",
   "execution_count": null,
   "id": "c0083964",
   "metadata": {
    "scrolled": true
   },
   "outputs": [],
   "source": [
    "plt.figure(figsize = (5,5))\n",
    "plt.imshow(train[-1][0])\n",
    "plt.title(labels[train[-1][1]])"
   ]
  },
  {
   "cell_type": "markdown",
   "id": "a670e914",
   "metadata": {},
   "source": [
    "## Step 4: Data Preprocessing and Augmentation"
   ]
  },
  {
   "cell_type": "code",
   "execution_count": null,
   "id": "c6192499",
   "metadata": {},
   "outputs": [],
   "source": [
    "# Preprocess the data\n",
    "x_train = []\n",
    "y_train = []\n",
    "x_val = []\n",
    "y_val = []\n",
    "\n",
    "for feature, label in train:\n",
    "  x_train.append(feature)\n",
    "  y_train.append(label)\n",
    "\n",
    "for feature, label in val:\n",
    "  x_val.append(feature)\n",
    "  y_val.append(label)\n",
    "\n",
    "# Normalize the data\n",
    "x_train = np.array(x_train) / 255\n",
    "x_val = np.array(x_val) / 255\n",
    "\n",
    "x_train.reshape(-1, img_size, img_size, 1)\n",
    "y_train = np.array(y_train)\n",
    "\n",
    "x_val.reshape(-1, img_size, img_size, 1)\n",
    "y_val = np.array(y_val)"
   ]
  },
  {
   "cell_type": "code",
   "execution_count": null,
   "id": "d15313e0",
   "metadata": {},
   "outputs": [],
   "source": [
    "# Augment the data\n",
    "datagen = ImageDataGenerator(\n",
    "        featurewise_center=False,  # set input mean to 0 over the dataset\n",
    "        samplewise_center=False,  # set each sample mean to 0\n",
    "        featurewise_std_normalization=False,  # divide inputs by std of the dataset\n",
    "        samplewise_std_normalization=False,  # divide each input by its std\n",
    "        zca_whitening=False,  # apply ZCA whitening\n",
    "        rotation_range = 30,  # randomly rotate images in the range (degrees, 0 to 180)\n",
    "        zoom_range = 0.2, # Randomly zoom image \n",
    "        width_shift_range=0.1,  # randomly shift images horizontally (fraction of total width)\n",
    "        height_shift_range=0.1,  # randomly shift images vertically (fraction of total height)\n",
    "        horizontal_flip = True,  # randomly flip images\n",
    "        vertical_flip=False)  # randomly flip images\n",
    "\n",
    "datagen.fit(x_train)"
   ]
  },
  {
   "cell_type": "markdown",
   "id": "5f895339",
   "metadata": {},
   "source": [
    "## Step 5: Define the Model"
   ]
  },
  {
   "cell_type": "code",
   "execution_count": null,
   "id": "02fba0bc",
   "metadata": {},
   "outputs": [],
   "source": [
    "# Define a simple CNN with 3 Convolutional layers followed by max-pooling layers. \n",
    "#   A dropout layer is added after the 3rd maxpool operation to avoid overfitting.\n",
    "model = Sequential()\n",
    "model.add(Conv2D(32,3,padding=\"same\", activation=\"relu\", input_shape=(224,224,3)))\n",
    "model.add(MaxPool2D())\n",
    "\n",
    "model.add(Conv2D(32, 3, padding=\"same\", activation=\"relu\"))\n",
    "model.add(MaxPool2D())\n",
    "\n",
    "model.add(Conv2D(64, 3, padding=\"same\", activation=\"relu\"))\n",
    "model.add(MaxPool2D())\n",
    "model.add(Dropout(0.4))\n",
    "\n",
    "model.add(Flatten())\n",
    "model.add(Dense(128,activation=\"relu\"))\n",
    "model.add(Dense(2, activation=\"softmax\"))\n",
    "\n",
    "model.summary()"
   ]
  },
  {
   "cell_type": "code",
   "execution_count": null,
   "id": "aa6bf83b",
   "metadata": {},
   "outputs": [],
   "source": [
    "# Compile the model using the Adam optimizer.\n",
    "#   SparseCategoricalCrossentropy is the loss function.\n",
    "#   Use a lower learning rate of 0.000001 for a smoother curve.\n",
    "opt = Adam(lr=0.000001)\n",
    "model.compile(optimizer = opt , loss = tf.keras.losses.SparseCategoricalCrossentropy(from_logits=True) , metrics = ['accuracy'])"
   ]
  },
  {
   "cell_type": "code",
   "execution_count": null,
   "id": "85dc2056",
   "metadata": {},
   "outputs": [],
   "source": [
    "# epochs represent the number of times the model goes through the training set.\n",
    "#   The model can be updated multiple times during one epoch.\n",
    "#   Train the model for 500 epochs because the learning rate is so small.\n",
    "#      500 epochs will produce a runtime of nearly 4 hours on a local machine.\n",
    "history = model.fit(x_train,y_train,epochs = 5 , validation_data = (x_val, y_val))"
   ]
  }
 ],
 "metadata": {
  "kernelspec": {
   "display_name": "Python 3",
   "language": "python",
   "name": "python3"
  },
  "language_info": {
   "codemirror_mode": {
    "name": "ipython",
    "version": 3
   },
   "file_extension": ".py",
   "mimetype": "text/x-python",
   "name": "python",
   "nbconvert_exporter": "python",
   "pygments_lexer": "ipython3",
   "version": "3.8.8"
  }
 },
 "nbformat": 4,
 "nbformat_minor": 5
}
