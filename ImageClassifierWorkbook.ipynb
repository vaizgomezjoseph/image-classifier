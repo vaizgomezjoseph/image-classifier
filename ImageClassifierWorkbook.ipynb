{
 "cells": [
  {
   "cell_type": "markdown",
   "id": "7471c528",
   "metadata": {},
   "source": [
    "# Classifying Identifiable People Using Image Classification\n",
    "Identify whether individuals in an image are \"identifiable\" or \"unidentifiable\". Images are considered \"identifiable\" if they clearly show an individual's face with no obstructions (mask, sunglasses, etc.). An applicaton of this project may be for companies that need to keep track of everyone visiting their locations.\n",
    "\n",
    "## Step 1: Import Libraries"
   ]
  },
  {
   "cell_type": "code",
   "execution_count": 1,
   "id": "9c9e8d12",
   "metadata": {},
   "outputs": [],
   "source": [
    "import matplotlib.pyplot as plt\n",
    "import seaborn as sns\n",
    "\n",
    "import keras\n",
    "from keras.models import Sequential\n",
    "from keras.layers import Dense, Conv2D , MaxPool2D , Flatten , Dropout \n",
    "from keras.preprocessing.image import ImageDataGenerator\n",
    "from keras.optimizers import Adam\n",
    "\n",
    "from sklearn.metrics import classification_report,confusion_matrix\n",
    "\n",
    "import tensorflow as tf\n",
    "\n",
    "import cv2\n",
    "import os\n",
    "\n",
    "import numpy as np"
   ]
  },
  {
   "cell_type": "markdown",
   "id": "33b6bb4e",
   "metadata": {},
   "source": [
    "## Step 2: Load the Data"
   ]
  },
  {
   "cell_type": "code",
   "execution_count": 2,
   "id": "5adcbd26",
   "metadata": {},
   "outputs": [],
   "source": [
    "labels = ['identifiable', 'unidentifiable']\n",
    "img_size = 224\n",
    "\n",
    "def get_data(data_dir):\n",
    "    \"\"\"Return a numpy array\n",
    "\n",
    "    Numpy array containing train or testing set data values. Read the images from \n",
    "    data_dir in the RGB format and resize the images to the desired width and height.\n",
    "    \"\"\"\n",
    "    data = [] \n",
    "    for label in labels: \n",
    "        path = os.path.join(data_dir, label)\n",
    "        class_num = labels.index(label) # 0: identifiable, 1: unidentifiable\n",
    "        for img in os.listdir(path):\n",
    "            try:\n",
    "                img_arr = cv2.imread(os.path.join(path, img))[...,::-1] #convert BGR to RGB format\n",
    "                resized_arr = cv2.resize(img_arr, (img_size, img_size)) # Reshaping images to preferred size\n",
    "                data.append([resized_arr, class_num])\n",
    "            except Exception as e:\n",
    "                print(e)\n",
    "    return np.array(data, dtype=object)"
   ]
  },
  {
   "cell_type": "code",
   "execution_count": 3,
   "id": "bba15bd5",
   "metadata": {},
   "outputs": [],
   "source": [
    "# Fetch the train and validation data.\n",
    "train = get_data('images dataset/Training Set')\n",
    "val = get_data('images dataset/Testing Set')"
   ]
  },
  {
   "cell_type": "code",
   "execution_count": null,
   "id": "46adc451",
   "metadata": {},
   "outputs": [],
   "source": []
  }
 ],
 "metadata": {
  "kernelspec": {
   "display_name": "Python 3",
   "language": "python",
   "name": "python3"
  },
  "language_info": {
   "codemirror_mode": {
    "name": "ipython",
    "version": 3
   },
   "file_extension": ".py",
   "mimetype": "text/x-python",
   "name": "python",
   "nbconvert_exporter": "python",
   "pygments_lexer": "ipython3",
   "version": "3.8.8"
  }
 },
 "nbformat": 4,
 "nbformat_minor": 5
}
