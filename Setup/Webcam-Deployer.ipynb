{
 "cells": [
  {
   "cell_type": "markdown",
   "id": "13012714",
   "metadata": {},
   "source": [
    "# Running Classification Model in Real-Time Using Webcam"
   ]
  },
  {
   "cell_type": "code",
   "execution_count": null,
   "id": "c31b2f0c",
   "metadata": {},
   "outputs": [],
   "source": [
    "import tensorflow as tf\n",
    "import cv2\n",
    "import os\n",
    "import numpy as np"
   ]
  },
  {
   "cell_type": "code",
   "execution_count": null,
   "id": "ec0cbb1b",
   "metadata": {},
   "outputs": [],
   "source": [
    "# Loading Model\n",
    "new_model = tf.keras.models.load_model('../saved_model/model_v1')\n",
    "\n",
    "img_size = 224"
   ]
  },
  {
   "cell_type": "code",
   "execution_count": null,
   "id": "10c5bd1b",
   "metadata": {},
   "outputs": [],
   "source": [
    "#capture via webcam 0\n",
    "video_capture = cv2.VideoCapture(0)\n",
    "\n",
    "cv2.namedWindow(\"Window\")\n",
    "\n",
    "while True:\n",
    "    ret, frame = video_capture.read()\n",
    "    \n",
    "    # Reformat Image Data\n",
    "    resized_frame = cv2.resize(frame, (img_size, img_size))\n",
    "    resized_frame = np.array(resized_frame) / 255\n",
    "    input_arr = []\n",
    "    input_arr.append(resized_frame)\n",
    "    input_arr = np.asarray(input_arr)\n",
    "    \n",
    "    # Make Prediction Using Model\n",
    "    prediction = np.argmax(new_model.predict(input_arr), axis=-1)[0] # 0: Identifiable, 1: Unidentifiable\n",
    "    classification = ''\n",
    "    if prediction == 0:\n",
    "        classification = 'Identifiable'\n",
    "    elif prediction == 1:\n",
    "        classification = 'Unidentifiable'\n",
    "    \n",
    "    # Write some Text\n",
    "    font = cv2.FONT_HERSHEY_SIMPLEX\n",
    "    bottomLeftCornerOfText = (10,500)\n",
    "    fontScale = 1\n",
    "    fontColor = (0,255,0)\n",
    "    lineType = 2\n",
    "\n",
    "    cv2.putText(frame, 'Classification: ' + classification, \n",
    "        bottomLeftCornerOfText, \n",
    "        font, \n",
    "        fontScale,\n",
    "        fontColor,\n",
    "        lineType)\n",
    "    \n",
    "    cv2.imshow(\"Window\", frame)\n",
    "\n",
    "    #This breaks on 'q' key\n",
    "    if cv2.waitKey(1) & 0xFF == ord('q'):\n",
    "        break\n",
    "\n",
    "video_capture.release()\n",
    "cv2.destroyAllWindows()\n",
    "cv2.waitKey(1)"
   ]
  },
  {
   "cell_type": "code",
   "execution_count": null,
   "id": "fb138f60",
   "metadata": {},
   "outputs": [],
   "source": []
  }
 ],
 "metadata": {
  "kernelspec": {
   "display_name": "Python 3",
   "language": "python",
   "name": "python3"
  },
  "language_info": {
   "codemirror_mode": {
    "name": "ipython",
    "version": 3
   },
   "file_extension": ".py",
   "mimetype": "text/x-python",
   "name": "python",
   "nbconvert_exporter": "python",
   "pygments_lexer": "ipython3",
   "version": "3.8.8"
  }
 },
 "nbformat": 4,
 "nbformat_minor": 5
}
